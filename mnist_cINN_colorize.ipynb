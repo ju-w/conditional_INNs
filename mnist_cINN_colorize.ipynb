{
 "cells": [
  {
   "cell_type": "code",
   "execution_count": 1,
   "metadata": {},
   "outputs": [],
   "source": [
    "def count_para(model):\n",
    "    trainable_parameters = list(filter(lambda p: p.requires_grad, model.parameters()))\n",
    "    n_trainable_parameters = sum([p.numel() for p in trainable_parameters])\n",
    "    return n_trainable_parameters\n"
   ]
  },
  {
   "cell_type": "code",
   "execution_count": 2,
   "metadata": {},
   "outputs": [],
   "source": [
    "import os\n",
    "os.chdir('/home/students/wittmann/jw-dir/repos/conditional_INNs/mnist_cINN')\n"
   ]
  },
  {
   "cell_type": "code",
   "execution_count": 3,
   "metadata": {},
   "outputs": [
    {
     "name": "stdout",
     "output_type": "stream",
     "text": [
      "True\n"
     ]
    }
   ],
   "source": [
    "import config\n",
    "config.colorize = True\n",
    "print(config.colorize)"
   ]
  },
  {
   "cell_type": "code",
   "execution_count": 4,
   "metadata": {},
   "outputs": [],
   "source": [
    "import FrEIA\n",
    "from model import *"
   ]
  },
  {
   "cell_type": "code",
   "execution_count": 5,
   "metadata": {},
   "outputs": [
    {
     "name": "stdout",
     "output_type": "stream",
     "text": [
      "13681884 parameters\n",
      "159 modules\n",
      "10 coupling layers\n",
      "26644 parameters conv\n",
      "1943136 parameters fully\n",
      "[26644, 26644, 26644, 1943136, 1943136, 1943136, 1943136, 1943136, 1943136, 1943136]\n",
      "[(3, 28, 28)] input\n",
      "[(65, 28, 28)] cond\n"
     ]
    }
   ],
   "source": [
    "print(count_para(model), 'parameters')\n",
    "print(list(model.modules()).__len__(), 'modules')\n",
    "print(list(x for x in model.modules() if isinstance(x, FrEIA.modules.coupling_layers._BaseCouplingBlock)).__len__(), 'coupling layers')\n",
    "# 3 conv conditioned, 7 fully not condiditoned\n",
    "print(count_para(list(x for x in model.modules() if isinstance(x, FrEIA.modules.coupling_layers._BaseCouplingBlock))[0]), 'parameters conv')\n",
    "print(count_para(list(x for x in model.modules() if isinstance(x, FrEIA.modules.coupling_layers._BaseCouplingBlock))[-1]), 'parameters fully')\n",
    "\n",
    "print(list(count_para(x) for x in list(x for x in model.modules() if isinstance(x, FrEIA.modules.coupling_layers._BaseCouplingBlock))))\n",
    "\n",
    "# print(count_para(cinn.cinn), 'parameters')\n",
    "print((model.dims_in), 'input')\n",
    "print((model.dims_c), 'cond')\n"
   ]
  },
  {
   "cell_type": "code",
   "execution_count": 6,
   "metadata": {},
   "outputs": [
    {
     "data": {
      "text/plain": [
       "torch.Size([7, 2352])"
      ]
     },
     "execution_count": 6,
     "metadata": {},
     "output_type": "execute_result"
    }
   ],
   "source": [
    "model(torch.rand(7,3,28,28), torch.rand(7,65,28,28))[0].shape"
   ]
  },
  {
   "cell_type": "code",
   "execution_count": 7,
   "metadata": {},
   "outputs": [],
   "source": [
    "import cond_net"
   ]
  },
  {
   "cell_type": "code",
   "execution_count": 8,
   "metadata": {},
   "outputs": [
    {
     "name": "stdout",
     "output_type": "stream",
     "text": [
      "913610 parameters\n"
     ]
    }
   ],
   "source": [
    "net = cond_net.Net()\n",
    "print(count_para(net), 'parameters')\n"
   ]
  },
  {
   "cell_type": "code",
   "execution_count": 9,
   "metadata": {},
   "outputs": [
    {
     "name": "stdout",
     "output_type": "stream",
     "text": [
      "torch.Size([512, 10])\n",
      "torch.Size([512, 64])\n"
     ]
    }
   ],
   "source": [
    "# wtf 512 fixed batchsize???\n",
    "print(net(torch.rand(512,1,28,28)).shape)\n",
    "print(net.features(torch.rand(512,1,28,28)).shape)\n"
   ]
  },
  {
   "cell_type": "code",
   "execution_count": 9,
   "metadata": {},
   "outputs": [
    {
     "data": {
      "text/plain": [
       "GLOWCouplingBlock(\n",
       "  (subnet1): F_fully_conv(\n",
       "    (conv1): Conv2d(67, 64, kernel_size=(1, 1), stride=(1, 1))\n",
       "    (conv2): Conv2d(131, 64, kernel_size=(1, 1), stride=(1, 1))\n",
       "    (conv3): Conv2d(195, 2, kernel_size=(1, 1), stride=(1, 1))\n",
       "  )\n",
       "  (subnet2): F_fully_conv(\n",
       "    (conv1): Conv2d(66, 64, kernel_size=(1, 1), stride=(1, 1))\n",
       "    (conv2): Conv2d(130, 64, kernel_size=(1, 1), stride=(1, 1))\n",
       "    (conv3): Conv2d(194, 4, kernel_size=(1, 1), stride=(1, 1))\n",
       "  )\n",
       ")"
      ]
     },
     "execution_count": 9,
     "metadata": {},
     "output_type": "execute_result"
    }
   ],
   "source": [
    "list(x for x in model.modules() if isinstance(x, FrEIA.modules.coupling_layers._BaseCouplingBlock))[0]\n",
    "# why 4 output for subnet 2? -> 2channels, 2x shift + 2x scale\n",
    "# why 2 output for subnet 1? -> 1channels, 1x shift + 1x scale\n"
   ]
  },
  {
   "cell_type": "code",
   "execution_count": 13,
   "metadata": {},
   "outputs": [
    {
     "data": {
      "text/plain": [
       "GLOWCouplingBlock(\n",
       "  (subnet1): F_fully_shallow(\n",
       "    (d1): Dropout(p=0.0, inplace=False)\n",
       "    (d2): Dropout(p=0.0, inplace=False)\n",
       "    (fc1): Linear(in_features=1176, out_features=256, bias=True)\n",
       "    (fc2): Linear(in_features=256, out_features=256, bias=True)\n",
       "    (fc3): Linear(in_features=256, out_features=2352, bias=True)\n",
       "    (nl1): LeakyReLU(negative_slope=0.01)\n",
       "    (nl2): LeakyReLU(negative_slope=0.01)\n",
       "  )\n",
       "  (subnet2): F_fully_shallow(\n",
       "    (d1): Dropout(p=0.0, inplace=False)\n",
       "    (d2): Dropout(p=0.0, inplace=False)\n",
       "    (fc1): Linear(in_features=1176, out_features=256, bias=True)\n",
       "    (fc2): Linear(in_features=256, out_features=256, bias=True)\n",
       "    (fc3): Linear(in_features=256, out_features=2352, bias=True)\n",
       "    (nl1): LeakyReLU(negative_slope=0.01)\n",
       "    (nl2): LeakyReLU(negative_slope=0.01)\n",
       "  )\n",
       ")"
      ]
     },
     "execution_count": 13,
     "metadata": {},
     "output_type": "execute_result"
    }
   ],
   "source": [
    "list(x for x in model.modules() if isinstance(x, FrEIA.modules.coupling_layers._BaseCouplingBlock))[-1]"
   ]
  },
  {
   "cell_type": "code",
   "execution_count": 10,
   "metadata": {},
   "outputs": [
    {
     "name": "stdout",
     "output_type": "stream",
     "text": [
      "InputNode 'inp': [] ->  -> [(3, 28, 28)] [] []\n",
      "Node 'permute_0': [(3, 28, 28)] -> PermuteRandom -> [(3, 28, 28)] [] []\n",
      "ConditionNode '263350': [] ->  -> [(65, 28, 28)] [] []\n",
      "Node 'conv_0': [(3, 28, 28)] -> GLOWCouplingBlock -> [(3, 28, 28)] [(ConditionNode '263350', 0)] [(65, 28, 28)]\n",
      "Node 'permute_1': [(3, 28, 28)] -> PermuteRandom -> [(3, 28, 28)] [] []\n",
      "Node 'conv_1': [(3, 28, 28)] -> GLOWCouplingBlock -> [(3, 28, 28)] [(ConditionNode '263350', 0)] [(65, 28, 28)]\n",
      "Node 'permute_2': [(3, 28, 28)] -> PermuteRandom -> [(3, 28, 28)] [] []\n",
      "Node 'conv_2': [(3, 28, 28)] -> GLOWCouplingBlock -> [(3, 28, 28)] [(ConditionNode '263350', 0)] [(65, 28, 28)]\n",
      "Node 'flatten': [(3, 28, 28)] -> Flatten -> ((2352,),) [] []\n",
      "Node 'permute_0': [(2352,)] -> PermuteRandom -> [(2352,)] [] []\n",
      "Node 'fc_0': [(2352,)] -> GLOWCouplingBlock -> [(2352,)] [] []\n",
      "Node 'permute_1': [(2352,)] -> PermuteRandom -> [(2352,)] [] []\n",
      "Node 'fc_1': [(2352,)] -> GLOWCouplingBlock -> [(2352,)] [] []\n",
      "Node 'permute_2': [(2352,)] -> PermuteRandom -> [(2352,)] [] []\n",
      "Node 'fc_2': [(2352,)] -> GLOWCouplingBlock -> [(2352,)] [] []\n",
      "Node 'permute_3': [(2352,)] -> PermuteRandom -> [(2352,)] [] []\n",
      "Node 'fc_3': [(2352,)] -> GLOWCouplingBlock -> [(2352,)] [] []\n",
      "Node 'permute_4': [(2352,)] -> PermuteRandom -> [(2352,)] [] []\n",
      "Node 'fc_4': [(2352,)] -> GLOWCouplingBlock -> [(2352,)] [] []\n",
      "Node 'permute_5': [(2352,)] -> PermuteRandom -> [(2352,)] [] []\n",
      "Node 'fc_5': [(2352,)] -> GLOWCouplingBlock -> [(2352,)] [] []\n",
      "Node 'permute_6': [(2352,)] -> PermuteRandom -> [(2352,)] [] []\n",
      "Node 'fc_6': [(2352,)] -> GLOWCouplingBlock -> [(2352,)] [] []\n",
      "OutputNode 'out': [(2352,)] ->  -> [] [] []\n"
     ]
    }
   ],
   "source": [
    "for x in model.node_list_fwd:\n",
    "    print(x, x.conditions, x.condition_dims)"
   ]
  },
  {
   "cell_type": "code",
   "execution_count": 11,
   "metadata": {},
   "outputs": [
    {
     "data": {
      "text/plain": [
       "ReversibleGraphNet(\n",
       "  (module_list): ModuleList(\n",
       "    (0): PermuteRandom()\n",
       "    (1): GLOWCouplingBlock(\n",
       "      (subnet1): F_fully_conv(\n",
       "        (conv1): Conv2d(67, 64, kernel_size=(1, 1), stride=(1, 1))\n",
       "        (conv2): Conv2d(131, 64, kernel_size=(1, 1), stride=(1, 1))\n",
       "        (conv3): Conv2d(195, 2, kernel_size=(1, 1), stride=(1, 1))\n",
       "      )\n",
       "      (subnet2): F_fully_conv(\n",
       "        (conv1): Conv2d(66, 64, kernel_size=(1, 1), stride=(1, 1))\n",
       "        (conv2): Conv2d(130, 64, kernel_size=(1, 1), stride=(1, 1))\n",
       "        (conv3): Conv2d(194, 4, kernel_size=(1, 1), stride=(1, 1))\n",
       "      )\n",
       "    )\n",
       "    (2): PermuteRandom()\n",
       "    (3): GLOWCouplingBlock(\n",
       "      (subnet1): F_fully_conv(\n",
       "        (conv1): Conv2d(67, 64, kernel_size=(1, 1), stride=(1, 1))\n",
       "        (conv2): Conv2d(131, 64, kernel_size=(1, 1), stride=(1, 1))\n",
       "        (conv3): Conv2d(195, 2, kernel_size=(1, 1), stride=(1, 1))\n",
       "      )\n",
       "      (subnet2): F_fully_conv(\n",
       "        (conv1): Conv2d(66, 64, kernel_size=(1, 1), stride=(1, 1))\n",
       "        (conv2): Conv2d(130, 64, kernel_size=(1, 1), stride=(1, 1))\n",
       "        (conv3): Conv2d(194, 4, kernel_size=(1, 1), stride=(1, 1))\n",
       "      )\n",
       "    )\n",
       "    (4): PermuteRandom()\n",
       "    (5): GLOWCouplingBlock(\n",
       "      (subnet1): F_fully_conv(\n",
       "        (conv1): Conv2d(67, 64, kernel_size=(1, 1), stride=(1, 1))\n",
       "        (conv2): Conv2d(131, 64, kernel_size=(1, 1), stride=(1, 1))\n",
       "        (conv3): Conv2d(195, 2, kernel_size=(1, 1), stride=(1, 1))\n",
       "      )\n",
       "      (subnet2): F_fully_conv(\n",
       "        (conv1): Conv2d(66, 64, kernel_size=(1, 1), stride=(1, 1))\n",
       "        (conv2): Conv2d(130, 64, kernel_size=(1, 1), stride=(1, 1))\n",
       "        (conv3): Conv2d(194, 4, kernel_size=(1, 1), stride=(1, 1))\n",
       "      )\n",
       "    )\n",
       "    (6): Flatten()\n",
       "    (7): PermuteRandom()\n",
       "    (8): GLOWCouplingBlock(\n",
       "      (subnet1): F_fully_shallow(\n",
       "        (d1): Dropout(p=0.0, inplace=False)\n",
       "        (d2): Dropout(p=0.0, inplace=False)\n",
       "        (fc1): Linear(in_features=1176, out_features=256, bias=True)\n",
       "        (fc2): Linear(in_features=256, out_features=256, bias=True)\n",
       "        (fc3): Linear(in_features=256, out_features=2352, bias=True)\n",
       "        (nl1): LeakyReLU(negative_slope=0.01)\n",
       "        (nl2): LeakyReLU(negative_slope=0.01)\n",
       "      )\n",
       "      (subnet2): F_fully_shallow(\n",
       "        (d1): Dropout(p=0.0, inplace=False)\n",
       "        (d2): Dropout(p=0.0, inplace=False)\n",
       "        (fc1): Linear(in_features=1176, out_features=256, bias=True)\n",
       "        (fc2): Linear(in_features=256, out_features=256, bias=True)\n",
       "        (fc3): Linear(in_features=256, out_features=2352, bias=True)\n",
       "        (nl1): LeakyReLU(negative_slope=0.01)\n",
       "        (nl2): LeakyReLU(negative_slope=0.01)\n",
       "      )\n",
       "    )\n",
       "    (9): PermuteRandom()\n",
       "    (10): GLOWCouplingBlock(\n",
       "      (subnet1): F_fully_shallow(\n",
       "        (d1): Dropout(p=0.0, inplace=False)\n",
       "        (d2): Dropout(p=0.0, inplace=False)\n",
       "        (fc1): Linear(in_features=1176, out_features=256, bias=True)\n",
       "        (fc2): Linear(in_features=256, out_features=256, bias=True)\n",
       "        (fc3): Linear(in_features=256, out_features=2352, bias=True)\n",
       "        (nl1): LeakyReLU(negative_slope=0.01)\n",
       "        (nl2): LeakyReLU(negative_slope=0.01)\n",
       "      )\n",
       "      (subnet2): F_fully_shallow(\n",
       "        (d1): Dropout(p=0.0, inplace=False)\n",
       "        (d2): Dropout(p=0.0, inplace=False)\n",
       "        (fc1): Linear(in_features=1176, out_features=256, bias=True)\n",
       "        (fc2): Linear(in_features=256, out_features=256, bias=True)\n",
       "        (fc3): Linear(in_features=256, out_features=2352, bias=True)\n",
       "        (nl1): LeakyReLU(negative_slope=0.01)\n",
       "        (nl2): LeakyReLU(negative_slope=0.01)\n",
       "      )\n",
       "    )\n",
       "    (11): PermuteRandom()\n",
       "    (12): GLOWCouplingBlock(\n",
       "      (subnet1): F_fully_shallow(\n",
       "        (d1): Dropout(p=0.0, inplace=False)\n",
       "        (d2): Dropout(p=0.0, inplace=False)\n",
       "        (fc1): Linear(in_features=1176, out_features=256, bias=True)\n",
       "        (fc2): Linear(in_features=256, out_features=256, bias=True)\n",
       "        (fc3): Linear(in_features=256, out_features=2352, bias=True)\n",
       "        (nl1): LeakyReLU(negative_slope=0.01)\n",
       "        (nl2): LeakyReLU(negative_slope=0.01)\n",
       "      )\n",
       "      (subnet2): F_fully_shallow(\n",
       "        (d1): Dropout(p=0.0, inplace=False)\n",
       "        (d2): Dropout(p=0.0, inplace=False)\n",
       "        (fc1): Linear(in_features=1176, out_features=256, bias=True)\n",
       "        (fc2): Linear(in_features=256, out_features=256, bias=True)\n",
       "        (fc3): Linear(in_features=256, out_features=2352, bias=True)\n",
       "        (nl1): LeakyReLU(negative_slope=0.01)\n",
       "        (nl2): LeakyReLU(negative_slope=0.01)\n",
       "      )\n",
       "    )\n",
       "    (13): PermuteRandom()\n",
       "    (14): GLOWCouplingBlock(\n",
       "      (subnet1): F_fully_shallow(\n",
       "        (d1): Dropout(p=0.0, inplace=False)\n",
       "        (d2): Dropout(p=0.0, inplace=False)\n",
       "        (fc1): Linear(in_features=1176, out_features=256, bias=True)\n",
       "        (fc2): Linear(in_features=256, out_features=256, bias=True)\n",
       "        (fc3): Linear(in_features=256, out_features=2352, bias=True)\n",
       "        (nl1): LeakyReLU(negative_slope=0.01)\n",
       "        (nl2): LeakyReLU(negative_slope=0.01)\n",
       "      )\n",
       "      (subnet2): F_fully_shallow(\n",
       "        (d1): Dropout(p=0.0, inplace=False)\n",
       "        (d2): Dropout(p=0.0, inplace=False)\n",
       "        (fc1): Linear(in_features=1176, out_features=256, bias=True)\n",
       "        (fc2): Linear(in_features=256, out_features=256, bias=True)\n",
       "        (fc3): Linear(in_features=256, out_features=2352, bias=True)\n",
       "        (nl1): LeakyReLU(negative_slope=0.01)\n",
       "        (nl2): LeakyReLU(negative_slope=0.01)\n",
       "      )\n",
       "    )\n",
       "    (15): PermuteRandom()\n",
       "    (16): GLOWCouplingBlock(\n",
       "      (subnet1): F_fully_shallow(\n",
       "        (d1): Dropout(p=0.0, inplace=False)\n",
       "        (d2): Dropout(p=0.0, inplace=False)\n",
       "        (fc1): Linear(in_features=1176, out_features=256, bias=True)\n",
       "        (fc2): Linear(in_features=256, out_features=256, bias=True)\n",
       "        (fc3): Linear(in_features=256, out_features=2352, bias=True)\n",
       "        (nl1): LeakyReLU(negative_slope=0.01)\n",
       "        (nl2): LeakyReLU(negative_slope=0.01)\n",
       "      )\n",
       "      (subnet2): F_fully_shallow(\n",
       "        (d1): Dropout(p=0.0, inplace=False)\n",
       "        (d2): Dropout(p=0.0, inplace=False)\n",
       "        (fc1): Linear(in_features=1176, out_features=256, bias=True)\n",
       "        (fc2): Linear(in_features=256, out_features=256, bias=True)\n",
       "        (fc3): Linear(in_features=256, out_features=2352, bias=True)\n",
       "        (nl1): LeakyReLU(negative_slope=0.01)\n",
       "        (nl2): LeakyReLU(negative_slope=0.01)\n",
       "      )\n",
       "    )\n",
       "    (17): PermuteRandom()\n",
       "    (18): GLOWCouplingBlock(\n",
       "      (subnet1): F_fully_shallow(\n",
       "        (d1): Dropout(p=0.0, inplace=False)\n",
       "        (d2): Dropout(p=0.0, inplace=False)\n",
       "        (fc1): Linear(in_features=1176, out_features=256, bias=True)\n",
       "        (fc2): Linear(in_features=256, out_features=256, bias=True)\n",
       "        (fc3): Linear(in_features=256, out_features=2352, bias=True)\n",
       "        (nl1): LeakyReLU(negative_slope=0.01)\n",
       "        (nl2): LeakyReLU(negative_slope=0.01)\n",
       "      )\n",
       "      (subnet2): F_fully_shallow(\n",
       "        (d1): Dropout(p=0.0, inplace=False)\n",
       "        (d2): Dropout(p=0.0, inplace=False)\n",
       "        (fc1): Linear(in_features=1176, out_features=256, bias=True)\n",
       "        (fc2): Linear(in_features=256, out_features=256, bias=True)\n",
       "        (fc3): Linear(in_features=256, out_features=2352, bias=True)\n",
       "        (nl1): LeakyReLU(negative_slope=0.01)\n",
       "        (nl2): LeakyReLU(negative_slope=0.01)\n",
       "      )\n",
       "    )\n",
       "    (19): PermuteRandom()\n",
       "    (20): GLOWCouplingBlock(\n",
       "      (subnet1): F_fully_shallow(\n",
       "        (d1): Dropout(p=0.0, inplace=False)\n",
       "        (d2): Dropout(p=0.0, inplace=False)\n",
       "        (fc1): Linear(in_features=1176, out_features=256, bias=True)\n",
       "        (fc2): Linear(in_features=256, out_features=256, bias=True)\n",
       "        (fc3): Linear(in_features=256, out_features=2352, bias=True)\n",
       "        (nl1): LeakyReLU(negative_slope=0.01)\n",
       "        (nl2): LeakyReLU(negative_slope=0.01)\n",
       "      )\n",
       "      (subnet2): F_fully_shallow(\n",
       "        (d1): Dropout(p=0.0, inplace=False)\n",
       "        (d2): Dropout(p=0.0, inplace=False)\n",
       "        (fc1): Linear(in_features=1176, out_features=256, bias=True)\n",
       "        (fc2): Linear(in_features=256, out_features=256, bias=True)\n",
       "        (fc3): Linear(in_features=256, out_features=2352, bias=True)\n",
       "        (nl1): LeakyReLU(negative_slope=0.01)\n",
       "        (nl2): LeakyReLU(negative_slope=0.01)\n",
       "      )\n",
       "    )\n",
       "  )\n",
       ")"
      ]
     },
     "execution_count": 11,
     "metadata": {},
     "output_type": "execute_result"
    }
   ],
   "source": [
    "model"
   ]
  }
 ],
 "metadata": {
  "kernelspec": {
   "display_name": "Python 3 (ipykernel)",
   "language": "python",
   "name": "python3"
  }
 },
 "nbformat": 4,
 "nbformat_minor": 2
}
