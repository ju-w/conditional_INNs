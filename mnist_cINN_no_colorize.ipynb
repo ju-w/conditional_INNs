{
 "cells": [
  {
   "cell_type": "code",
   "execution_count": 1,
   "metadata": {},
   "outputs": [],
   "source": [
    "def count_para(model):\n",
    "    trainable_parameters = list(filter(lambda p: p.requires_grad, model.parameters()))\n",
    "    n_trainable_parameters = sum([p.numel() for p in trainable_parameters])\n",
    "    return n_trainable_parameters\n"
   ]
  },
  {
   "cell_type": "code",
   "execution_count": 2,
   "metadata": {},
   "outputs": [],
   "source": [
    "import os\n",
    "os.chdir('/home/students/wittmann/jw-dir/repos/conditional_INNs/mnist_cINN')\n"
   ]
  },
  {
   "cell_type": "code",
   "execution_count": 3,
   "metadata": {},
   "outputs": [
    {
     "name": "stdout",
     "output_type": "stream",
     "text": [
      "False\n"
     ]
    }
   ],
   "source": [
    "import config\n",
    "config.colorize = False\n",
    "print(config.colorize)"
   ]
  },
  {
   "cell_type": "code",
   "execution_count": 4,
   "metadata": {},
   "outputs": [],
   "source": [
    "import FrEIA\n",
    "from model import *"
   ]
  },
  {
   "cell_type": "code",
   "execution_count": 5,
   "metadata": {},
   "outputs": [
    {
     "name": "stdout",
     "output_type": "stream",
     "text": [
      "54424320 parameters\n",
      "579 modules\n",
      "24 coupling layers\n",
      "2267680 parameters fully\n",
      "[2267680, 2267680, 2267680, 2267680, 2267680, 2267680, 2267680, 2267680, 2267680, 2267680, 2267680, 2267680, 2267680, 2267680, 2267680, 2267680, 2267680, 2267680, 2267680, 2267680, 2267680, 2267680, 2267680, 2267680]\n",
      "[(28, 28)] input\n",
      "[(10,)] cond\n"
     ]
    }
   ],
   "source": [
    "print(count_para(model), 'parameters')\n",
    "print(list(model.modules()).__len__(), 'modules')\n",
    "print(list(x for x in model.modules() if isinstance(x, FrEIA.modules.coupling_layers._BaseCouplingBlock)).__len__(), 'coupling layers')\n",
    "# 24 blocks of 3 fully linear, randomize in between\n",
    "print(count_para(list(x for x in model.modules() if isinstance(x, FrEIA.modules.coupling_layers._BaseCouplingBlock))[-1]), 'parameters fully')\n",
    "\n",
    "print(list(count_para(x) for x in list(x for x in model.modules() if isinstance(x, FrEIA.modules.coupling_layers._BaseCouplingBlock))))\n",
    "\n",
    "# print(count_para(cinn.cinn), 'parameters')\n",
    "print((model.dims_in), 'input')\n",
    "print((model.dims_c), 'cond')\n"
   ]
  },
  {
   "cell_type": "code",
   "execution_count": 6,
   "metadata": {},
   "outputs": [
    {
     "data": {
      "text/plain": [
       "torch.Size([7, 784])"
      ]
     },
     "execution_count": 6,
     "metadata": {},
     "output_type": "execute_result"
    }
   ],
   "source": [
    "model(torch.rand(7,3,28,28), torch.rand(7,10))[0].shape"
   ]
  },
  {
   "cell_type": "code",
   "execution_count": 17,
   "metadata": {},
   "outputs": [
    {
     "data": {
      "text/plain": [
       "GLOWCouplingBlock(\n",
       "  (subnet1): F_fully_connected(\n",
       "    (d1): Dropout(p=0.0, inplace=False)\n",
       "    (d2): Dropout(p=0.0, inplace=False)\n",
       "    (d2b): Dropout(p=0.0, inplace=False)\n",
       "    (fc1): Linear(in_features=402, out_features=512, bias=True)\n",
       "    (fc2): Linear(in_features=512, out_features=512, bias=True)\n",
       "    (fc2b): Linear(in_features=512, out_features=512, bias=True)\n",
       "    (fc3): Linear(in_features=512, out_features=784, bias=True)\n",
       "    (nl1): ReLU()\n",
       "    (nl2): ReLU()\n",
       "    (nl2b): ReLU()\n",
       "  )\n",
       "  (subnet2): F_fully_connected(\n",
       "    (d1): Dropout(p=0.0, inplace=False)\n",
       "    (d2): Dropout(p=0.0, inplace=False)\n",
       "    (d2b): Dropout(p=0.0, inplace=False)\n",
       "    (fc1): Linear(in_features=402, out_features=512, bias=True)\n",
       "    (fc2): Linear(in_features=512, out_features=512, bias=True)\n",
       "    (fc2b): Linear(in_features=512, out_features=512, bias=True)\n",
       "    (fc3): Linear(in_features=512, out_features=784, bias=True)\n",
       "    (nl1): ReLU()\n",
       "    (nl2): ReLU()\n",
       "    (nl2b): ReLU()\n",
       "  )\n",
       ")"
      ]
     },
     "execution_count": 17,
     "metadata": {},
     "output_type": "execute_result"
    }
   ],
   "source": [
    "list(x for x in model.modules() if isinstance(x, FrEIA.modules.coupling_layers._BaseCouplingBlock))[-1]"
   ]
  },
  {
   "cell_type": "code",
   "execution_count": 8,
   "metadata": {},
   "outputs": [
    {
     "name": "stdout",
     "output_type": "stream",
     "text": [
      "InputNode 'inp': [] ->  -> [(28, 28)] [] []\n",
      "Node 'flatten': [(28, 28)] -> Flatten -> ((784,),) [] []\n",
      "ConditionNode 'e3f350': [] ->  -> [(10,)] [] []\n",
      "Node 'permute_0': [(784,)] -> PermuteRandom -> [(784,)] [] []\n",
      "Node 'fc_0': [(784,)] -> GLOWCouplingBlock -> [(784,)] [(ConditionNode 'e3f350', 0)] [(10,)]\n",
      "Node 'permute_1': [(784,)] -> PermuteRandom -> [(784,)] [] []\n",
      "Node 'fc_1': [(784,)] -> GLOWCouplingBlock -> [(784,)] [(ConditionNode 'e3f350', 0)] [(10,)]\n",
      "Node 'permute_2': [(784,)] -> PermuteRandom -> [(784,)] [] []\n",
      "Node 'fc_2': [(784,)] -> GLOWCouplingBlock -> [(784,)] [(ConditionNode 'e3f350', 0)] [(10,)]\n",
      "Node 'permute_3': [(784,)] -> PermuteRandom -> [(784,)] [] []\n",
      "Node 'fc_3': [(784,)] -> GLOWCouplingBlock -> [(784,)] [(ConditionNode 'e3f350', 0)] [(10,)]\n",
      "Node 'permute_4': [(784,)] -> PermuteRandom -> [(784,)] [] []\n",
      "Node 'fc_4': [(784,)] -> GLOWCouplingBlock -> [(784,)] [(ConditionNode 'e3f350', 0)] [(10,)]\n",
      "Node 'permute_5': [(784,)] -> PermuteRandom -> [(784,)] [] []\n",
      "Node 'fc_5': [(784,)] -> GLOWCouplingBlock -> [(784,)] [(ConditionNode 'e3f350', 0)] [(10,)]\n",
      "Node 'permute_6': [(784,)] -> PermuteRandom -> [(784,)] [] []\n",
      "Node 'fc_6': [(784,)] -> GLOWCouplingBlock -> [(784,)] [(ConditionNode 'e3f350', 0)] [(10,)]\n",
      "Node 'permute_7': [(784,)] -> PermuteRandom -> [(784,)] [] []\n",
      "Node 'fc_7': [(784,)] -> GLOWCouplingBlock -> [(784,)] [(ConditionNode 'e3f350', 0)] [(10,)]\n",
      "Node 'permute_8': [(784,)] -> PermuteRandom -> [(784,)] [] []\n",
      "Node 'fc_8': [(784,)] -> GLOWCouplingBlock -> [(784,)] [(ConditionNode 'e3f350', 0)] [(10,)]\n",
      "Node 'permute_9': [(784,)] -> PermuteRandom -> [(784,)] [] []\n",
      "Node 'fc_9': [(784,)] -> GLOWCouplingBlock -> [(784,)] [(ConditionNode 'e3f350', 0)] [(10,)]\n",
      "Node 'permute_10': [(784,)] -> PermuteRandom -> [(784,)] [] []\n",
      "Node 'fc_10': [(784,)] -> GLOWCouplingBlock -> [(784,)] [(ConditionNode 'e3f350', 0)] [(10,)]\n",
      "Node 'permute_11': [(784,)] -> PermuteRandom -> [(784,)] [] []\n",
      "Node 'fc_11': [(784,)] -> GLOWCouplingBlock -> [(784,)] [(ConditionNode 'e3f350', 0)] [(10,)]\n",
      "Node 'permute_12': [(784,)] -> PermuteRandom -> [(784,)] [] []\n",
      "Node 'fc_12': [(784,)] -> GLOWCouplingBlock -> [(784,)] [(ConditionNode 'e3f350', 0)] [(10,)]\n",
      "Node 'permute_13': [(784,)] -> PermuteRandom -> [(784,)] [] []\n",
      "Node 'fc_13': [(784,)] -> GLOWCouplingBlock -> [(784,)] [(ConditionNode 'e3f350', 0)] [(10,)]\n",
      "Node 'permute_14': [(784,)] -> PermuteRandom -> [(784,)] [] []\n",
      "Node 'fc_14': [(784,)] -> GLOWCouplingBlock -> [(784,)] [(ConditionNode 'e3f350', 0)] [(10,)]\n",
      "Node 'permute_15': [(784,)] -> PermuteRandom -> [(784,)] [] []\n",
      "Node 'fc_15': [(784,)] -> GLOWCouplingBlock -> [(784,)] [(ConditionNode 'e3f350', 0)] [(10,)]\n",
      "Node 'permute_16': [(784,)] -> PermuteRandom -> [(784,)] [] []\n",
      "Node 'fc_16': [(784,)] -> GLOWCouplingBlock -> [(784,)] [(ConditionNode 'e3f350', 0)] [(10,)]\n",
      "Node 'permute_17': [(784,)] -> PermuteRandom -> [(784,)] [] []\n",
      "Node 'fc_17': [(784,)] -> GLOWCouplingBlock -> [(784,)] [(ConditionNode 'e3f350', 0)] [(10,)]\n",
      "Node 'permute_18': [(784,)] -> PermuteRandom -> [(784,)] [] []\n",
      "Node 'fc_18': [(784,)] -> GLOWCouplingBlock -> [(784,)] [(ConditionNode 'e3f350', 0)] [(10,)]\n",
      "Node 'permute_19': [(784,)] -> PermuteRandom -> [(784,)] [] []\n",
      "Node 'fc_19': [(784,)] -> GLOWCouplingBlock -> [(784,)] [(ConditionNode 'e3f350', 0)] [(10,)]\n",
      "Node 'permute_20': [(784,)] -> PermuteRandom -> [(784,)] [] []\n",
      "Node 'fc_20': [(784,)] -> GLOWCouplingBlock -> [(784,)] [(ConditionNode 'e3f350', 0)] [(10,)]\n",
      "Node 'permute_21': [(784,)] -> PermuteRandom -> [(784,)] [] []\n",
      "Node 'fc_21': [(784,)] -> GLOWCouplingBlock -> [(784,)] [(ConditionNode 'e3f350', 0)] [(10,)]\n",
      "Node 'permute_22': [(784,)] -> PermuteRandom -> [(784,)] [] []\n",
      "Node 'fc_22': [(784,)] -> GLOWCouplingBlock -> [(784,)] [(ConditionNode 'e3f350', 0)] [(10,)]\n",
      "Node 'permute_23': [(784,)] -> PermuteRandom -> [(784,)] [] []\n",
      "Node 'fc_23': [(784,)] -> GLOWCouplingBlock -> [(784,)] [(ConditionNode 'e3f350', 0)] [(10,)]\n",
      "OutputNode 'out': [(784,)] ->  -> [] [] []\n"
     ]
    }
   ],
   "source": [
    "for x in model.node_list_fwd:\n",
    "    print(x, x.conditions, x.condition_dims)"
   ]
  }
 ],
 "metadata": {
  "kernelspec": {
   "display_name": "Python 3 (ipykernel)",
   "language": "python",
   "name": "python3"
  },
  "language_info": {
   "codemirror_mode": {
    "name": "ipython",
    "version": 3
   },
   "file_extension": ".py",
   "mimetype": "text/x-python",
   "name": "python",
   "nbconvert_exporter": "python",
   "pygments_lexer": "ipython3",
   "version": "3.12.2"
  }
 },
 "nbformat": 4,
 "nbformat_minor": 2
}
